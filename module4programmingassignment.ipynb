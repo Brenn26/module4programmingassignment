{
 "cells": [
  {
   "cell_type": "code",
   "execution_count": 4,
   "id": "1c18e59b-b994-4971-ba16-c5ec78cc21ac",
   "metadata": {},
   "outputs": [],
   "source": [
    "#11.1\n",
    "def hours():\n",
    "    print(\"Open 9-5 Daily\")\n",
    "\n"
   ]
  },
  {
   "cell_type": "code",
   "execution_count": 6,
   "id": "b6b53791-a04a-4722-8c94-dfacebf5171d",
   "metadata": {},
   "outputs": [
    {
     "name": "stdout",
     "output_type": "stream",
     "text": [
      "Open 9-5 Daily\n"
     ]
    }
   ],
   "source": [
    "# 11.1 from zoo import hours\n",
    "def hours():\n",
    "    print(\"Open 9-5 Daily\")\n",
    "\n",
    "hours()"
   ]
  },
  {
   "cell_type": "code",
   "execution_count": null,
   "id": "6c41e743-ca74-4230-83f4-6f9b2f7a3532",
   "metadata": {},
   "outputs": [],
   "source": [
    "#11.2 # 11.1 from zoo import hours as menagerie\n",
    "# menagerie()"
   ]
  },
  {
   "cell_type": "code",
   "execution_count": 10,
   "id": "6d77ef4f-8d0d-4109-ba07-a972d0a460d7",
   "metadata": {},
   "outputs": [],
   "source": [
    "#16.4 \n",
    "import sqlite3\n",
    "\n",
    "\n",
    "conn = sqlite3.connect('books1.db')\n",
    "\n",
    "cur = conn.cursor()\n",
    "\n",
    "cur.execute('''\n",
    "CREATE TABLE books (\n",
    "    title TEXT,\n",
    "    author TEXT,\n",
    "    year INTEGER\n",
    ")\n",
    "''')\n",
    "\n",
    "\n",
    "cur.execute('''\n",
    "INSERT INTO books (title, author, year) VALUES (?, ?, ?)\n",
    "''', (\"WAr of The Worlds\", \"H G Wells\", 1898))\n",
    "\n",
    "cur.execute('''\n",
    "INSERT INTO books (title, author, year) VALUES (?, ?, ?)\n",
    "''', (\"Second book\", \"Second author\", 2024))\n",
    "\n",
    "conn.commit()\n",
    "conn.close()"
   ]
  },
  {
   "cell_type": "code",
   "execution_count": null,
   "id": "13fa8b8d-29fb-4853-abfa-438df4e4c859",
   "metadata": {},
   "outputs": [],
   "source": []
  }
 ],
 "metadata": {
  "kernelspec": {
   "display_name": "Python 3 (ipykernel)",
   "language": "python",
   "name": "python3"
  },
  "language_info": {
   "codemirror_mode": {
    "name": "ipython",
    "version": 3
   },
   "file_extension": ".py",
   "mimetype": "text/x-python",
   "name": "python",
   "nbconvert_exporter": "python",
   "pygments_lexer": "ipython3",
   "version": "3.11.7"
  }
 },
 "nbformat": 4,
 "nbformat_minor": 5
}
